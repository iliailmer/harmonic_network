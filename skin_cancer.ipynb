{
  "nbformat": 4,
  "nbformat_minor": 0,
  "metadata": {
    "colab": {
      "name": "skin_cancer.ipynb",
      "version": "0.3.2",
      "provenance": [],
      "collapsed_sections": [],
      "include_colab_link": true
    },
    "kernelspec": {
      "name": "python3",
      "display_name": "Python 3"
    },
    "accelerator": "GPU"
  },
  "cells": [
    {
      "cell_type": "markdown",
      "metadata": {
        "id": "view-in-github",
        "colab_type": "text"
      },
      "source": [
        "<a href=\"https://colab.research.google.com/github/iliailmer/harmonic_network/blob/master/skin_cancer.ipynb\" target=\"_parent\"><img src=\"https://colab.research.google.com/assets/colab-badge.svg\" alt=\"Open In Colab\"/></a>"
      ]
    },
    {
      "metadata": {
        "id": "8e8-5D93OqU-",
        "colab_type": "code",
        "outputId": "b128cad8-fb4e-4301-e22d-cf7ab0d0a621",
        "colab": {
          "base_uri": "https://localhost:8080/",
          "height": 1166
        }
      },
      "cell_type": "code",
      "source": [
        "#%%capture\n",
        "#!pip3 install fastai==0.7.0\n",
        "!apt-get -qq install -y libsm6 libxext6 && pip install -q -U opencv-python\n",
        "import cv2\n",
        "from os.path import exists\n",
        "from wheel.pep425tags import get_abbr_impl, get_impl_ver, get_abi_tag\n",
        "platform = '{}{}-{}'.format(get_abbr_impl(), get_impl_ver(), get_abi_tag())\n",
        "cuda_output = !ldconfig -p|grep cudart.so|sed -e 's/.*\\.\\([0-9]*\\)\\.\\([0-9]*\\)$/cu\\1\\2/'\n",
        "accelerator = cuda_output[0] if exists('/dev/nvidia0') else 'cpu'\n",
        "\n",
        "#!pip install -q http://download.pytorch.org/whl/{accelerator}/torch-0.4.1-{platform}-linux_x86_64.whl torchvision\n",
        "#!pip install -q http://download.pytorch.org/whl/{accelerator}/torch-1.0.0.post4-{platform}-linux_x86_64.whl torchvision\n",
        "!pip install -q torch==1.0.0 torchvision\n",
        "!pip install torch-dct\n",
        "\n",
        "import torch\n",
        "\n",
        "!pip install Pillow==4.0.0\n",
        "!pip install image\n",
        "!pip install torchtext==0.2.3\n",
        "\n",
        "!pip install kaggle\n",
        "\n",
        "from googleapiclient.discovery import build\n",
        "import io, os\n",
        "from googleapiclient.http import MediaIoBaseDownload\n",
        "from google.colab import auth\n",
        "\n",
        "auth.authenticate_user()\n",
        "\n",
        "drive_service = build('drive', 'v3')\n",
        "results = drive_service.files().list(\n",
        "        q=\"name = 'kaggle.json'\", fields=\"files(id)\").execute()\n",
        "kaggle_api_key = results.get('files', [])\n",
        "\n",
        "filename = \"/content/.kaggle/kaggle.json\"\n",
        "os.makedirs(os.path.dirname(filename), exist_ok=True)\n",
        "\n",
        "request = drive_service.files().get_media(fileId=kaggle_api_key[0]['id'])\n",
        "fh = io.FileIO(filename, 'wb')\n",
        "downloader = MediaIoBaseDownload(fh, request)\n",
        "done = False\n",
        "while done is False:\n",
        "    status, done = downloader.next_chunk()\n",
        "    print(\"Download %d%%.\" % int(status.progress() * 100))\n",
        "os.chmod(filename, 600)\n",
        "\n",
        "#!ln -s ~/.local/bin/kaggle /usr/bin/kaggle\n",
        "print(f\"CUDA is available: {torch.cuda.is_available()}\")\n",
        "torch.cuda.set_device(0)\n",
        "\n",
        "from google.colab import drive\n",
        "drive.mount('/content/drive')\n",
        "\n",
        "!pip install -q kaggle\n",
        "!mkdir -p ~/.kaggle\n",
        "!cp drive/My\\ Drive/kaggle.json ~/.kaggle/\n",
        "!kaggle datasets download -d kmader/skin-cancer-mnist-ham10000\n",
        "!unzip skin-cancer-mnist-ham10000.zip"
      ],
      "execution_count": 2,
      "outputs": [
        {
          "output_type": "stream",
          "text": [
            "tcmalloc: large alloc 1073750016 bytes == 0x62000000 @  0x7f65610822a4 0x591a07 0x5b5d56 0x502e9a 0x506859 0x502209 0x502f3d 0x506859 0x504c28 0x502540 0x502f3d 0x506859 0x504c28 0x502540 0x502f3d 0x506859 0x504c28 0x502540 0x502f3d 0x507641 0x502209 0x502f3d 0x506859 0x504c28 0x502540 0x502f3d 0x507641 0x504c28 0x502540 0x502f3d 0x507641\n",
            "Collecting torch-dct\n",
            "  Downloading https://files.pythonhosted.org/packages/8f/20/6f6280ed77a0382ae6226c5250c02f64924b8fc73d9aa7d73b9c6b3ee6a5/torch_dct-0.1.5-py3-none-any.whl\n",
            "Requirement already satisfied: torch>=0.4.1 in /usr/local/lib/python3.6/dist-packages (from torch-dct) (1.0.0)\n",
            "Installing collected packages: torch-dct\n",
            "Successfully installed torch-dct-0.1.5\n",
            "Collecting Pillow==4.0.0\n",
            "\u001b[?25l  Downloading https://files.pythonhosted.org/packages/37/e8/b3fbf87b0188d22246678f8cd61e23e31caa1769ebc06f1664e2e5fe8a17/Pillow-4.0.0-cp36-cp36m-manylinux1_x86_64.whl (5.6MB)\n",
            "\u001b[K    100% |████████████████████████████████| 5.6MB 6.4MB/s \n",
            "\u001b[?25hRequirement already satisfied: olefile in /usr/local/lib/python3.6/dist-packages (from Pillow==4.0.0) (0.46)\n",
            "\u001b[31mtorchvision 0.2.1 has requirement pillow>=4.1.1, but you'll have pillow 4.0.0 which is incompatible.\u001b[0m\n",
            "Installing collected packages: Pillow\n",
            "  Found existing installation: Pillow 5.3.0\n",
            "    Uninstalling Pillow-5.3.0:\n",
            "      Successfully uninstalled Pillow-5.3.0\n",
            "Successfully installed Pillow-4.0.0\n",
            "Requirement already satisfied: image in /usr/local/lib/python3.6/dist-packages (1.5.27)\n",
            "Requirement already satisfied: pillow in /usr/local/lib/python3.6/dist-packages (from image) (4.0.0)\n",
            "Requirement already satisfied: django in /usr/local/lib/python3.6/dist-packages (from image) (2.1.4)\n",
            "Requirement already satisfied: olefile in /usr/local/lib/python3.6/dist-packages (from pillow->image) (0.46)\n",
            "Requirement already satisfied: pytz in /usr/local/lib/python3.6/dist-packages (from django->image) (2018.7)\n",
            "Collecting torchtext==0.2.3\n",
            "\u001b[?25l  Downloading https://files.pythonhosted.org/packages/78/90/474d5944d43001a6e72b9aaed5c3e4f77516fbef2317002da2096fd8b5ea/torchtext-0.2.3.tar.gz (42kB)\n",
            "\u001b[K    100% |████████████████████████████████| 51kB 3.5MB/s \n",
            "\u001b[?25hRequirement already satisfied: tqdm in /usr/local/lib/python3.6/dist-packages (from torchtext==0.2.3) (4.28.1)\n",
            "Requirement already satisfied: requests in /usr/local/lib/python3.6/dist-packages (from torchtext==0.2.3) (2.18.4)\n",
            "Requirement already satisfied: chardet<3.1.0,>=3.0.2 in /usr/local/lib/python3.6/dist-packages (from requests->torchtext==0.2.3) (3.0.4)\n",
            "Requirement already satisfied: urllib3<1.23,>=1.21.1 in /usr/local/lib/python3.6/dist-packages (from requests->torchtext==0.2.3) (1.22)\n",
            "Requirement already satisfied: certifi>=2017.4.17 in /usr/local/lib/python3.6/dist-packages (from requests->torchtext==0.2.3) (2018.11.29)\n",
            "Requirement already satisfied: idna<2.7,>=2.5 in /usr/local/lib/python3.6/dist-packages (from requests->torchtext==0.2.3) (2.6)\n",
            "Building wheels for collected packages: torchtext\n",
            "  Running setup.py bdist_wheel for torchtext ... \u001b[?25l-\b \b\\\b \bdone\n",
            "\u001b[?25h  Stored in directory: /root/.cache/pip/wheels/42/a6/f4/b267328bde6bb680094a0c173e8e5627ccc99543abded97204\n",
            "Successfully built torchtext\n",
            "Installing collected packages: torchtext\n",
            "Successfully installed torchtext-0.2.3\n",
            "Requirement already satisfied: kaggle in /usr/local/lib/python3.6/dist-packages (1.5.1.1)\n",
            "Requirement already satisfied: urllib3<1.23.0,>=1.15 in /usr/local/lib/python3.6/dist-packages (from kaggle) (1.22)\n",
            "Requirement already satisfied: six>=1.10 in /usr/local/lib/python3.6/dist-packages (from kaggle) (1.11.0)\n",
            "Requirement already satisfied: certifi in /usr/local/lib/python3.6/dist-packages (from kaggle) (2018.11.29)\n",
            "Requirement already satisfied: python-dateutil in /usr/local/lib/python3.6/dist-packages (from kaggle) (2.5.3)\n",
            "Requirement already satisfied: requests in /usr/local/lib/python3.6/dist-packages (from kaggle) (2.18.4)\n",
            "Requirement already satisfied: tqdm in /usr/local/lib/python3.6/dist-packages (from kaggle) (4.28.1)\n",
            "Requirement already satisfied: python-slugify in /usr/local/lib/python3.6/dist-packages (from kaggle) (1.2.6)\n",
            "Requirement already satisfied: idna<2.7,>=2.5 in /usr/local/lib/python3.6/dist-packages (from requests->kaggle) (2.6)\n",
            "Requirement already satisfied: chardet<3.1.0,>=3.0.2 in /usr/local/lib/python3.6/dist-packages (from requests->kaggle) (3.0.4)\n",
            "Requirement already satisfied: Unidecode>=0.04.16 in /usr/local/lib/python3.6/dist-packages (from python-slugify->kaggle) (1.0.23)\n",
            "Download 100%.\n",
            "CUDA is available: True\n",
            "Go to this URL in a browser: https://accounts.google.com/o/oauth2/auth?client_id=947318989803-6bn6qk8qdgf4n4g3pfee6491hc0brc4i.apps.googleusercontent.com&redirect_uri=urn%3Aietf%3Awg%3Aoauth%3A2.0%3Aoob&scope=email%20https%3A%2F%2Fwww.googleapis.com%2Fauth%2Fdocs.test%20https%3A%2F%2Fwww.googleapis.com%2Fauth%2Fdrive%20https%3A%2F%2Fwww.googleapis.com%2Fauth%2Fdrive.photos.readonly%20https%3A%2F%2Fwww.googleapis.com%2Fauth%2Fpeopleapi.readonly&response_type=code\n",
            "\n",
            "Enter your authorization code:\n",
            "··········\n",
            "Mounted at /content/drive\n",
            "Downloading skin-cancer-mnist-ham10000.zip to /content\n",
            " 99% 2.60G/2.62G [00:19<00:00, 139MB/s]\n",
            "100% 2.62G/2.62G [00:20<00:00, 140MB/s]\n",
            "Archive:  skin-cancer-mnist-ham10000.zip\n",
            "  inflating: hmnist_28_28_RGB.csv    \n",
            "  inflating: HAM10000_metadata.csv   \n",
            "  inflating: HAM10000_images_part_1.zip  \n",
            "  inflating: hmnist_28_28_L.csv      \n",
            "  inflating: hmnist_8_8_L.csv        \n",
            "  inflating: HAM10000_images_part_2.zip  \n",
            "  inflating: hmnist_8_8_RGB.csv      \n"
          ],
          "name": "stdout"
        }
      ]
    },
    {
      "metadata": {
        "id": "q9bGr0etR1aD",
        "colab_type": "code",
        "colab": {}
      },
      "cell_type": "code",
      "source": [
        "%%capture\n",
        "!mkdir HAM10000_images\n",
        "!unzip HAM10000_images_part_1.zip -d HAM10000_images\n",
        "!unzip HAM10000_images_part_2.zip -d HAM10000_images\n",
        "!rm HAM10000_images_part_1.zip HAM10000_images_part_2.zip skin-cancer-mnist-ham10000.zip\n"
      ],
      "execution_count": 0,
      "outputs": []
    },
    {
      "metadata": {
        "id": "3X5PzdFuSqI6",
        "colab_type": "code",
        "colab": {}
      },
      "cell_type": "code",
      "source": [
        "import pandas as pd\n",
        "import numpy as np\n",
        "from scipy import fftpack\n",
        "from matplotlib import pyplot as plt\n",
        "import seaborn as sns\n",
        "import statistics\n",
        "import albumentations as alb\n",
        "import os\n",
        "\n",
        "from skimage import color, io, morphology, feature, segmentation, exposure\n",
        "from glob import glob\n",
        "import typing\n",
        "\n",
        "import torch\n",
        "from torch import nn\n",
        "import torch.nn.functional as F\n",
        "import torch.optim as optim\n",
        "from torch.utils.data import Dataset, DataLoader\n",
        "from skimage.exposure import rescale_intensity"
      ],
      "execution_count": 0,
      "outputs": []
    },
    {
      "metadata": {
        "id": "c1bUxJJiTJor",
        "colab_type": "code",
        "colab": {}
      },
      "cell_type": "code",
      "source": [
        "def rescale(image, mn=0, mx=1):\n",
        "  return rescale_intensity(image,out_range=(mn,mx))\n",
        "\n",
        "def EME(image, window_height=11, window_width=11):\n",
        "    \"\"\"\n",
        "    EME measure for showing image quality based on human visual system.\n",
        "    For details, see\n",
        "    Agaian, Sos S., Karen Panetta,\n",
        "    and Artyom M. Grigoryan.\n",
        "    \"A new measure of image enhancement.\"\n",
        "    IASTED International Conference on Signal Processing & Communication.\n",
        "    Citeseer, 2000.\n",
        "\n",
        "    :param image: input image, must be single-channel.\n",
        "    :param window_height: height of the inspecting window\n",
        "    :param window_width: width of the inspecting window\n",
        "    :return: A real-valued enhancement measure.\n",
        "    \"\"\"\n",
        "    height, width = image.shape\n",
        "    # k_1 = np.floor(height/window_height)\n",
        "    # k_2 = np.floor(width/window_width)\n",
        "    sum_ = 0\n",
        "    k = 0\n",
        "    H = np.int(np.floor(window_height / 2))  # range in height, distance from the center of the window\n",
        "    W = np.int(np.floor(window_width / 2))  # range in width, same as above\n",
        "    for row in range(0 + H, height - H + 1, window_height):\n",
        "        for column in range(0 + W, width - W + 1, window_width):\n",
        "\n",
        "            window = image[row - H:row + H + 1, column - W:column + W + 1]\n",
        "\n",
        "            I_max = window.max()\n",
        "            I_min = window.min()\n",
        "\n",
        "            D = (I_max + 1) / (I_min + 1)\n",
        "            if D < 0.02:\n",
        "                D = 0.02\n",
        "            k += 1\n",
        "            sum_ += 20 * np.log(D)\n",
        "        # sum_k_1 += sum_k_2\n",
        "        # sum_k_2 = 0\n",
        "\n",
        "    eme = sum_ / k\n",
        "    return eme\n",
        "\n",
        "\n",
        "def EME_color(image):\n",
        "    \"\"\"\n",
        "    Application of EME to color images.\n",
        "    :param image: color image (multi-channel)\n",
        "    :return: EME of that image\n",
        "    \"\"\"\n",
        "    emes_ = []\n",
        "    if image.shape[-1]>1:\n",
        "        for each in range(image.shape[-1]):\n",
        "            emes_.append(EME(image[:,:,each]))\n",
        "    else:\n",
        "        emes_.append(EME(image))\n",
        "    return max(emes_)\n",
        "\n",
        "def alpha_rooting_fourier(image: np.ndarray, alpha: float = 0.9) -> np.ndarray:\n",
        "    ffted = fftpack.fft2(image)\n",
        "    abs_ffted = np.absolute(ffted)**alpha\n",
        "    iffted = fftpack.ifft2(abs_ffted*ffted/sp.absolute(ffted))\n",
        "    iffted = rescale(np.absolute(iffted), 0, 1)#.astype(int)\n",
        "    return iffted\n"
      ],
      "execution_count": 0,
      "outputs": []
    },
    {
      "metadata": {
        "id": "aDHXHgMB7xN5",
        "colab_type": "code",
        "outputId": "9a4591e6-d68b-4916-a051-1ec8492e04cb",
        "colab": {
          "base_uri": "https://localhost:8080/",
          "height": 69
        }
      },
      "cell_type": "code",
      "source": [
        "!ls"
      ],
      "execution_count": 10,
      "outputs": [
        {
          "output_type": "stream",
          "text": [
            "adc.json\t HAM10000_metadata.csv\thmnist_8_8_L.csv\n",
            "drive\t\t hmnist_28_28_L.csv\thmnist_8_8_RGB.csv\n",
            "HAM10000_images  hmnist_28_28_RGB.csv\tsample_data\n"
          ],
          "name": "stdout"
        }
      ]
    },
    {
      "metadata": {
        "id": "Aqk6JVhiUCrn",
        "colab_type": "code",
        "colab": {}
      },
      "cell_type": "code",
      "source": [
        "lesion_type_dict = {\n",
        "    'nv': 'Melanocytic nevi',\n",
        "    'mel': 'Melanoma',\n",
        "    'bkl': 'Benign keratosis-like lesions ',\n",
        "    'bcc': 'Basal cell carcinoma',\n",
        "    'akiec': 'Actinic keratoses',\n",
        "    'vasc': 'Vascular lesions',\n",
        "    'df': 'Dermatofibroma'\n",
        "}\n",
        "\n",
        "\n",
        "\n",
        "#metadata = pd.read_csv('HAM10000_metadata.csv')\n",
        "imgs_28_rgb = pd.read_csv('hmnist_28_28_RGB.csv')\n",
        "labels = imgs_28_rgb['label'].values\n",
        "\n",
        "del imgs_28_rgb\n",
        "\n",
        "#diag_by_txt = dict(zip(list(dict(metadata.dx.value_counts()).keys()),\n",
        "#                       list(dict(pd.value_counts(labels)).keys())))\n",
        "#diag_by_label = dict(zip(list(dict(pd.value_counts(labels)).keys()), \n",
        "#                         list(dict(metadata.dx.value_counts()).keys())))\n",
        "\n",
        "#metadata['sex'] = pd.Categorical(metadata['sex']).codes\n",
        "#metadata['label'] = metadata['dx'].map(diag_by_txt.get)\n",
        "imageid_path_dict = {os.path.splitext(os.path.basename(x))[0]: x\n",
        "                     for x in glob(os.path.join('HAM10000_images', '*.jpg'))}\n",
        "#metadata['path'] = metadata['image_id'].map(imageid_path_dict.get)\n",
        "#metadata['image'] = metadata['path'].map(io.imread)\n",
        "#metadata['diag_name'] = metadata['dx'].map(lesion_type_dict.get) \n",
        "#metadata.head()\n",
        "#del metadata"
      ],
      "execution_count": 0,
      "outputs": []
    },
    {
      "metadata": {
        "id": "0OHffgXDYNCF",
        "colab_type": "code",
        "colab": {}
      },
      "cell_type": "code",
      "source": [
        "fig, ax = plt.subplots(1, 1, figsize = (10, 5))\n",
        "metadata['dx_type'].value_counts().plot(kind='bar', ax=ax1)\n",
        "\n",
        "fig, ax = plt.subplots(2, 1, figsize = (10, 5))\n",
        "metadata['dx'].value_counts().plot(kind='bar', ax=ax[0])\n",
        "metadata['label'].value_counts().plot(kind='bar', ax=ax[1])\n",
        "\n",
        "n_samples = 5\n",
        "fig, m_axs = plt.subplots(7, n_samples, figsize = (4*n_samples, 3*7))\n",
        "for n_axs, (type_name, type_rows) in zip(m_axs, \n",
        "                                         metadata.sort_values(['diag_name']).groupby('diag_name')):\n",
        "    #n_axs[0].set_title(type_name)\n",
        "    for c_ax, (_, c_row) in zip(n_axs, type_rows.sample(n_samples, random_state=2018).iterrows()):\n",
        "        c_ax.grid(False)\n",
        "        c_ax.imshow(c_row['image'])\n",
        "        c_ax.set_title(f\"{type_name}, eme={EME_color(c_row['image']):.3f}\")\n",
        "        c_ax.axis('off')"
      ],
      "execution_count": 0,
      "outputs": []
    },
    {
      "metadata": {
        "id": "pAZRAR1vZ3VQ",
        "colab_type": "code",
        "colab": {}
      },
      "cell_type": "code",
      "source": [
        "rgb_info_df = metadata.apply(lambda x: pd.Series({'{}_mean'.format(k): v for k, v in \n",
        "                                  zip(['Red', 'Green', 'Blue'], \n",
        "                                      np.mean(x['image'], (0, 1)))}),1)\n",
        "gray_col_vec = rgb_info_df.apply(lambda x: np.mean(x), 1)\n",
        "for c_col in rgb_info_df.columns:\n",
        "    rgb_info_df[c_col] = rgb_info_df[c_col]/gray_col_vec\n",
        "rgb_info_df['Gray_mean'] = gray_col_vec\n",
        "#rgb_info_df.sample(3)\n",
        "\n",
        "for c_col in rgb_info_df.columns:\n",
        "    metadata[c_col] = rgb_info_df[c_col].values\n",
        "    \n",
        "sns.pairplot(metadata[['Red_mean', 'Green_mean', 'Blue_mean', 'Gray_mean', 'diag_name']], \n",
        "             hue='diag_name', plot_kws = {'alpha': 0.5})\n",
        "\n",
        "\n"
      ],
      "execution_count": 0,
      "outputs": []
    },
    {
      "metadata": {
        "id": "eyBaQhnAp_2T",
        "colab_type": "code",
        "colab": {}
      },
      "cell_type": "code",
      "source": [
        "class Flatten(nn.Module):\n",
        "    def forward(self, input):\n",
        "        return input.view(input.size(0), -1)\n",
        "      \n",
        "      \n",
        "class ConvNet(nn.Module):\n",
        "  def __init__(self, in_ch, stride, pad):\n",
        "    super(ConvNet, self).__init__()\n",
        "    self.convnet = nn.Sequential(\n",
        "                      nn.Conv2d(in_channels = in_ch, out_channels = 32, \n",
        "                           kernel_size = 5, stride = stride, \n",
        "                           padding = pad),\n",
        "                      nn.BatchNorm2d(32, eps=1e-4, momentum=0.1, affine=False),\n",
        "                      nn.ReLU(inplace=True), #32x96x96\n",
        "                      nn.MaxPool2d(kernel_size=3, stride=2, padding=1),#32x48x48\n",
        "                      nn.Conv2d(in_channels = 32, out_channels = 64, \n",
        "                           kernel_size = 3, stride = 1, \n",
        "                           padding = 1),\n",
        "                      nn.BatchNorm2d(64, eps=1e-4, momentum=0.1, affine=False),\n",
        "                      nn.ReLU(inplace=True), #64x48x48\n",
        "                      nn.MaxPool2d(kernel_size=3, stride=2, padding=1),#64x24x24\n",
        "                      nn.Conv2d(in_channels = 64, out_channels = 128, \n",
        "                           kernel_size = 3, stride = 1, \n",
        "                           padding = 1),\n",
        "                      nn.BatchNorm2d(128, eps=1e-4, momentum=0.1, affine=False),\n",
        "                      nn.ReLU(inplace=True), #128x24x24\n",
        "                      nn.MaxPool2d(kernel_size=3, stride=2, padding=1),#128x12x12\n",
        "                      Flatten(),\n",
        "                      nn.Linear(in_features = 128*12*12, out_features= 1024, bias = False), #1024*12\n",
        "                      #nn.MaxPool1d(kernel_size=3, stride=2, padding=1), #\n",
        "                      nn.Dropout2d(0.5),\n",
        "                      nn.Linear(in_features = 1024, out_features=7, bias = False)\n",
        "                      )\n",
        "  \n",
        "  def forward(self, x):\n",
        "    x = self.convnet(x)\n",
        "    x = x.view(-1, 7)\n",
        "    return x\n",
        "\n",
        "from sklearn.model_selection import train_test_split\n",
        "from skimage import io\n",
        "from skimage.transform import resize\n",
        "from skimage import color\n",
        "import torchvision\n",
        "class Loader(Dataset):\n",
        "  def __init__(self,  path, labels, image_name = None,\n",
        "               train=True, transform = None, color_space = None):\n",
        "    \"\"\"\n",
        "        Args:\n",
        "            image_name (string): Name of the file in the image\n",
        "            train (bool): whether to load training set or testing set\n",
        "            path (string): Path to the folder with images.\n",
        "            labels (np.ndarray): labels for images.\n",
        "            transform (callable, optional): Optional transform to be applied\n",
        "                on a sample.\n",
        "    \"\"\"\n",
        "    self.data = os.listdir(path)\n",
        "    self.path = path\n",
        "    self.train = train\n",
        "    self.name = image_name\n",
        "    self.labels = labels\n",
        "    self.transform = transform\n",
        "    self.train_names, self.test_names, self.train_labels,  self.test_labels = train_test_split(np.asarray(self.data), \n",
        "                                                                                              np.asarray(self.labels))\n",
        "    self.color_transform_dict = {'rgb':color.rgb2rgbcie, 'hed':color.rgb2hed, 'gray':color.rgb2gray, None:None}\n",
        "    \n",
        "    if self.train:\n",
        "      if self.color_transform_dict[color_space] is not None:\n",
        "        self.train_data = torch.from_numpy(np.asarray([np.transpose(resize(self.color_transform_dict[color_space](io.imread(os.path.join(self.path, name))),(96,96),mode = 'reflect').astype('float32'), (2,1,0)) for name in self.train_names]))\n",
        "      else:\n",
        "        self.train_data = torch.from_numpy(np.asarray([np.transpose(resize(io.imread(os.path.join(self.path, name)),(96,96),mode = 'reflect').astype('float32'), (2,1,0)) for name in self.train_names]))\n",
        "      self.train_labels = torch.from_numpy(self.train_labels)\n",
        "    else:\n",
        "      if self.color_transform_dict[color_space] is not None:\n",
        "        self.test_data  = torch.from_numpy(np.asarray([np.transpose(resize(self.color_transform_dict[color_space](io.imread(os.path.join(self.path, name))),(96,96),mode = 'reflect').astype('float32'), (2,1,0)) for name in self.test_names]))\n",
        "      else:\n",
        "        self.test_data  = torch.from_numpy(np.asarray([np.transpose(resize(io.imread(os.path.join(self.path, name)),(96,96),mode = 'reflect').astype('float32'), (2,1,0)) for name in self.test_names]))\n",
        "      self.test_labels  = torch.from_numpy(self.test_labels)\n",
        "      \n",
        "      \n",
        "  def __len__(self):\n",
        "    if self.train:\n",
        "      return len(self.train_data) \n",
        "    else:\n",
        "      return len(self.test_data)\n",
        "  \n",
        "  def __getitem__(self, index):\n",
        "    if self.train:\n",
        "      image, label = self.train_data[index], self.train_labels[index]\n",
        "    else:\n",
        "      image, label = self.test_data[index], self.test_labels[index]\n",
        "    return image, label"
      ],
      "execution_count": 0,
      "outputs": []
    },
    {
      "metadata": {
        "id": "9YMd9OAiYTF-",
        "colab_type": "code",
        "colab": {}
      },
      "cell_type": "code",
      "source": [
        "training_data_ = Loader(path = 'HAM10000_images', \n",
        "           labels = labels, train=True, \n",
        "           transform=torchvision.transforms.ToTensor())\n",
        "\n",
        "testing_data_ = Loader(path = 'HAM10000_images', \n",
        "           labels = labels, train=False, \n",
        "           transform=torchvision.transforms.ToTensor())\n",
        "\n",
        "model = ConvNet(in_ch = 3, stride = 1, pad = 2) # input channels, stride, pad (0 = no padding, 1 = padding with zeros)\n",
        "\n",
        "for module in model.modules():\n",
        "  if isinstance(module, nn.Conv2d):\n",
        "    module.weight.data.normal_(0,0.05)\n",
        "    module.bias.data.zero_()\n",
        "\n",
        "model.cuda()\n",
        "model = torch.nn.DataParallel(model, device_ids=range(torch.cuda.device_count()))\n",
        "base_lr = float(0.01)\n",
        "param_dict = dict(model.named_parameters())\n",
        "params = []\n",
        "\n",
        "loss = nn.CrossEntropyLoss()\n",
        "\n",
        "optimizer = optim.SGD(model.parameters(), lr=0.001, weight_decay = 0.0005, momentum=0.9)\n",
        "\n",
        "device = 'cuda' if torch.cuda.is_available() else 'cpu'\n",
        "best_acc=0"
      ],
      "execution_count": 0,
      "outputs": []
    },
    {
      "metadata": {
        "id": "-D4C1I4yZGdS",
        "colab_type": "code",
        "colab": {}
      },
      "cell_type": "code",
      "source": [
        "def train(epoch, output_step=100):\n",
        "  model.train()\n",
        "  losses = []\n",
        "  for batch_idx, (data, label) in enumerate(trainloader):\n",
        "    data, label = torch.autograd.Variable(data.cuda()), torch.autograd.Variable(label.cuda())\n",
        "    optimizer.zero_grad()\n",
        "    output = model(data)\n",
        "    loss_ = loss(output, label)\n",
        "    \n",
        "    loss_.backward()\n",
        "    optimizer.step()\n",
        "    losses.append(loss_.data.item())\n",
        "    if batch_idx % output_step == 0:\n",
        "      print('\\nTrain Epoch: {} [{}/{} ({:.0f}%)]\\tTraining Loss: {:.6f}\\tLR: {}'.format(\n",
        "             epoch, batch_idx * len(data), len(trainloader.dataset),\n",
        "             100. * batch_idx / len(trainloader), loss_.data.item(),\n",
        "             optimizer.param_groups[0]['lr']))\n",
        "  return losses\n",
        "\n",
        "def test(epoch, output_step=50):\n",
        "  model.eval()\n",
        "  losses = []\n",
        "  for batch_id, (data, label) in enumerate(testloader):\n",
        "    data, label = torch.autograd.Variable(data.cuda()), torch.autograd.Variable(label.cuda())\n",
        "    output = model(data)\n",
        "    test_loss_ = loss(output, label)\n",
        "    losses.append(test_loss_.data.item())\n",
        "    if batch_id % output_step==0:\n",
        "      print('Testing: {} [{}/{} ({:.0f}%)]\\tTesting Loss: {:.6f}\\tLR: {}'.format(\n",
        "             epoch, batch_id * len(data), len(testloader.dataset),\n",
        "             100. * batch_id / len(testloader), test_loss_.data.item(),\n",
        "             optimizer.param_groups[0]['lr']))\n",
        "  return losses\n",
        "\n",
        "trainloader = torch.utils.data.DataLoader(training_data_, batch_size=64,\n",
        "                                          shuffle=True, num_workers=2)\n",
        "testloader = torch.utils.data.DataLoader(testing_data_, batch_size = 64,\n",
        "                                         shuffle = True, num_workers = 2)\n",
        "classes = list(lesion_type_dict.keys())\n",
        "\n",
        "for epoch in range(30):\n",
        "  train_losses =train(epoch,128)\n",
        "  test_losses = test(epoch,128)\n",
        "      \n"
      ],
      "execution_count": 0,
      "outputs": []
    },
    {
      "metadata": {
        "id": "TFosALGnUYfz",
        "colab_type": "code",
        "colab": {}
      },
      "cell_type": "code",
      "source": [
        "import torch.nn.functional as F\n",
        "\n",
        "class HarmonicBlock(nn.Module):\n",
        "  \n",
        "  #FIX SHAPES!!!!\n",
        "  def __init__(self, input_channels, output_channels, kernel_size=4, window_size = 4, lmbda = 3):\n",
        "    super(HarmonicBlock, self).__init__()\n",
        "    self.K = kernel_size\n",
        "    self.N = window_size # preferably to have N=K !! (to fully replicate the paper), this is the convolution window size\n",
        "    self.PI = torch.as_tensor(np.pi)\n",
        "    filter_bank_size = output_channels*kernel_size**2\n",
        "    self.filter_bank = torch.stack([torch.stack([self.fltr(j,i,self.N, self.K) for i in range(self.K)]) for j in range(self.K)])\n",
        "    self.filter_bank = self.filter_bank.view((filter_bank_size,input_channels,self.K,self.K))\n",
        "    self.lmbda = lmbda # limits the number of kernels\n",
        "    self.conv = nn.Conv1d(in_channels = output_channels, out_channels = 1, kernel_size = 1, padding = 1) # output 1 because compresses into 1? (see formula 2)\n",
        "    self.input_channels = input_channels\n",
        "    self.output_channels = output_channels\n",
        "  \n",
        "  def forward(self, x):\n",
        "    #convolve all filters from the bank with the input\n",
        "    x = F.conv2d(x, weight = self.filter_bank)\n",
        "    x = x.view((x.shape[0], self.output_channels, -1))\n",
        "    x = self.conv(x)\n",
        "    return x\n",
        "  \n",
        "  def compute_output_shape(self, input_shape):\n",
        "    batch_size, in_channels, width, height = input_shape\n",
        "    num_filters, depth, filter_width, filter_height = self.filter_bank.shape\n",
        "    out_shape = (batch_size, self.output_channels, )\n",
        "    return \n",
        "  \n",
        "  def fltr(self, u, v, N, k):\n",
        "    return torch.as_tensor([[torch.cos(torch.as_tensor(self.PI/N*(ii+0.5)*v))*torch.cos(torch.as_tensor(self.PI/N*(jj+0.5)*u)) for ii in range(k)] for jj in range(k)])"
      ],
      "execution_count": 0,
      "outputs": []
    },
    {
      "metadata": {
        "id": "qhizffloU7HP",
        "colab_type": "code",
        "colab": {
          "base_uri": "https://localhost:8080/",
          "height": 34
        },
        "outputId": "797a4100-f206-4ce5-9a07-e481a7dc9cb4"
      },
      "cell_type": "code",
      "source": [
        "#harm = HarmonicBlock(3, 3, 3, 3)\n",
        "harm.filter_bank\n",
        "#harm.filter_bank\n",
        "#harm.forward(img.view((1,3,96,96))).shape"
      ],
      "execution_count": 92,
      "outputs": [
        {
          "output_type": "execute_result",
          "data": {
            "text/plain": [
              "torch.Size([2, 2, 2, 2])"
            ]
          },
          "metadata": {
            "tags": []
          },
          "execution_count": 92
        }
      ]
    },
    {
      "metadata": {
        "id": "PY2O0CKhkIU-",
        "colab_type": "code",
        "colab": {
          "base_uri": "https://localhost:8080/",
          "height": 34
        },
        "outputId": "46b65864-2b92-486b-dc2d-9f1ad3f6a631"
      },
      "cell_type": "code",
      "source": [
        "img = training_data_.train_data[0]#[0,:,:].reshape((1,96,96))\n",
        "harm = HarmonicBlock(3, 3, 3, 3)\n",
        "\n",
        "harm.forward(img.view((1,3,96,96))).shape"
      ],
      "execution_count": 68,
      "outputs": [
        {
          "output_type": "execute_result",
          "data": {
            "text/plain": [
              "torch.Size([1, 1, 8838])"
            ]
          },
          "metadata": {
            "tags": []
          },
          "execution_count": 68
        }
      ]
    },
    {
      "metadata": {
        "id": "TBGXp_RUlqXK",
        "colab_type": "code",
        "colab": {
          "base_uri": "https://localhost:8080/",
          "height": 34
        },
        "outputId": "90024ca3-35af-40f2-f30e-66523fbc9eca"
      },
      "cell_type": "code",
      "source": [
        "img.shape"
      ],
      "execution_count": 66,
      "outputs": [
        {
          "output_type": "execute_result",
          "data": {
            "text/plain": [
              "torch.Size([3, 96, 96])"
            ]
          },
          "metadata": {
            "tags": []
          },
          "execution_count": 66
        }
      ]
    },
    {
      "metadata": {
        "id": "1HylI2TyTbDe",
        "colab_type": "code",
        "colab": {
          "base_uri": "https://localhost:8080/",
          "height": 452
        },
        "outputId": "53455342-15c2-44ed-bc25-33abb203eb25"
      },
      "cell_type": "code",
      "source": [
        "f_ = f.numpy()\n",
        "plt.imshow(f_.reshape((-1,3,3))[4,:,:])"
      ],
      "execution_count": 346,
      "outputs": [
        {
          "output_type": "execute_result",
          "data": {
            "text/plain": [
              "<matplotlib.image.AxesImage at 0x7f758ae664e0>"
            ]
          },
          "metadata": {
            "tags": []
          },
          "execution_count": 346
        },
        {
          "output_type": "display_data",
          "data": {
            "image/png": "[encoded data removed]",
            "text/plain": [
              "<matplotlib.figure.Figure at 0x7f758aeea780>"
            ]
          },
          "metadata": {
            "tags": []
          }
        }
      ]
    },
    {
      "metadata": {
        "id": "X6XCHRWITa6e",
        "colab_type": "code",
        "colab": {
          "base_uri": "https://localhost:8080/",
          "height": 450
        },
        "outputId": "3c24e02b-de2f-4f13-ef83-b4b53935aa8f"
      },
      "cell_type": "code",
      "source": [
        "image = img[:,:,0].reshape((96,96,1))\n",
        "convolved2d = nn.functional.conv2d(torchvision.transforms.ToTensor()(image).view((1,1,96,96)), weight = f.view((-1,1,3,3)))\n",
        "plt.imshow(convolved2d[0,1].numpy())\n"
      ],
      "execution_count": 411,
      "outputs": [
        {
          "output_type": "execute_result",
          "data": {
            "text/plain": [
              "<matplotlib.image.AxesImage at 0x7f758925e630>"
            ]
          },
          "metadata": {
            "tags": []
          },
          "execution_count": 411
        },
        {
          "output_type": "display_data",
          "data": {
            "image/png": "[encoded data removed]",
            "text/plain": [
              "<matplotlib.figure.Figure at 0x7f7589388400>"
            ]
          },
          "metadata": {
            "tags": []
          }
        }
      ]
    },
    {
      "metadata": {
        "id": "reXUQqzZcYue",
        "colab_type": "code",
        "colab": {
          "base_uri": "https://localhost:8080/",
          "height": 34
        },
        "outputId": "1995f08d-9eb3-4108-e9ab-a6376446a141"
      },
      "cell_type": "code",
      "source": [
        "a,b,c,d = f.shape\n",
        "type(f)"
      ],
      "execution_count": 425,
      "outputs": [
        {
          "output_type": "execute_result",
          "data": {
            "text/plain": [
              "torch.Tensor"
            ]
          },
          "metadata": {
            "tags": []
          },
          "execution_count": 425
        }
      ]
    },
    {
      "metadata": {
        "id": "ttVymIZlbitn",
        "colab_type": "code",
        "colab": {
          "base_uri": "https://localhost:8080/",
          "height": 34
        },
        "outputId": "c7d01145-8715-447f-e911-2824133664b9"
      },
      "cell_type": "code",
      "source": [
        "convolved1d = nn.functional.conv1d(convolved2d.view((1,9,-1)), weight = torch.randn((1,9,3)), padding = 1).view((1,1,94,94))\n",
        "convolved2d.shape"
      ],
      "execution_count": 427,
      "outputs": [
        {
          "output_type": "execute_result",
          "data": {
            "text/plain": [
              "torch.Size([1, 9, 94, 94])"
            ]
          },
          "metadata": {
            "tags": []
          },
          "execution_count": 427
        }
      ]
    },
    {
      "metadata": {
        "id": "CRzOqhdJomCU",
        "colab_type": "code",
        "colab": {
          "base_uri": "https://localhost:8080/",
          "height": 368
        },
        "outputId": "02245fe2-6c77-4b58-e909-7dd1a333d7ca"
      },
      "cell_type": "code",
      "source": [
        "#import torch_dct as dct\n",
        "from scipy.fftpack import dctn, idctn\n",
        "from scipy.signal import convolve, correlate, convolve2d, correlate2d\n",
        "\n",
        "img = np.transpose(training_data_.train_data[0].numpy(), (2,1,0))\n",
        "K = 3\n",
        "A = np.asarray([[np.cos(np.pi/img.shape[0]*(j+0.5)*v) for v in range(K)] for j in np.arange(img.shape[0])])\n",
        "B = np.asarray([[np.cos(np.pi/img.shape[1]*(i+0.5)*u) for u in range(K)] for i in np.arange(img.shape[1])])\n",
        "f = np.dot(A.T,B)\n",
        "plt.imshow(f)"
      ],
      "execution_count": 138,
      "outputs": [
        {
          "output_type": "execute_result",
          "data": {
            "text/plain": [
              "<matplotlib.image.AxesImage at 0x7f758f374cf8>"
            ]
          },
          "metadata": {
            "tags": []
          },
          "execution_count": 138
        },
        {
          "output_type": "display_data",
          "data": {
            "image/png": "[encoded data removed]",
            "text/plain": [
              "<matplotlib.figure.Figure at 0x7f758f3f19b0>"
            ]
          },
          "metadata": {
            "tags": []
          }
        }
      ]
    }
  ]
}